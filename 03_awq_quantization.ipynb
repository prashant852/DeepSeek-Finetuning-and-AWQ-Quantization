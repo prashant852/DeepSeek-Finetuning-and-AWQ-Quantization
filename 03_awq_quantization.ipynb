{
 "cells": [
  {
   "cell_type": "markdown",
   "id": "46aeb555-e1e2-4cb4-a78b-bf6488728657",
   "metadata": {},
   "source": [
    "### AWQ Quantiation of model checkpoints\n",
    "#### Framework: `AutoAWQ by casper-hansen` https://github.com/casper-hansen/AutoAWQ"
   ]
  },
  {
   "cell_type": "code",
   "execution_count": 1,
   "id": "dacebfc9-6d53-46bf-a870-e5878791dc21",
   "metadata": {},
   "outputs": [],
   "source": [
    "import torch\n",
    "import gc\n",
    "import os\n",
    "from awq import AutoAWQForCausalLM\n",
    "from transformers import AutoTokenizer"
   ]
  },
  {
   "cell_type": "code",
   "execution_count": null,
   "id": "1765c03e-8358-4129-8aca-19d71f7ea396",
   "metadata": {},
   "outputs": [],
   "source": [
    "#Create output directory\n",
    "os.makedirs(\"./awq_models\", exist_ok = True)"
   ]
  },
  {
   "cell_type": "code",
   "execution_count": 3,
   "id": "15747b2a-ba94-4e03-807f-69c17b2393b0",
   "metadata": {},
   "outputs": [],
   "source": [
    "# List of all model checkpoints\n",
    "model_paths = [\n",
    "    \"training_output/checkpoint-25\",\n",
    "    \"training_output/checkpoint-50\",\n",
    "    \"training_output/checkpoint-75\",\n",
    "    \"training_output/checkpoint-100\",\n",
    "    \"training_output/checkpoint-125\",\n",
    "    \"training_output/checkpoint-150\",\n",
    "    \"training_output/checkpoint-175\",\n",
    "    \"training_output/checkpoint-200\",\n",
    "]"
   ]
  },
  {
   "cell_type": "code",
   "execution_count": 5,
   "id": "2fd3036b-32c5-4486-9438-1aa2ea59945e",
   "metadata": {},
   "outputs": [
    {
     "name": "stdout",
     "output_type": "stream",
     "text": [
      "Working on ./raw_models/checkpoint-25\n"
     ]
    },
    {
     "data": {
      "application/vnd.jupyter.widget-view+json": {
       "model_id": "c06a2c89f7ba45e59effd684e963dd97",
       "version_major": 2,
       "version_minor": 0
      },
      "text/plain": [
       "Loading checkpoint shards:   0%|          | 0/4 [00:00<?, ?it/s]"
      ]
     },
     "metadata": {},
     "output_type": "display_data"
    },
    {
     "name": "stderr",
     "output_type": "stream",
     "text": [
      "Repo card metadata block was not found. Setting CardData to empty.\n",
      "AWQ: 100%|██████████| 28/28 [16:16<00:00, 34.88s/it]\n"
     ]
    },
    {
     "name": "stdout",
     "output_type": "stream",
     "text": [
      "Working on ./raw_models/checkpoint-50\n"
     ]
    },
    {
     "data": {
      "application/vnd.jupyter.widget-view+json": {
       "model_id": "c87919ebd4864fcbba423b945a786007",
       "version_major": 2,
       "version_minor": 0
      },
      "text/plain": [
       "Loading checkpoint shards:   0%|          | 0/4 [00:00<?, ?it/s]"
      ]
     },
     "metadata": {},
     "output_type": "display_data"
    },
    {
     "name": "stderr",
     "output_type": "stream",
     "text": [
      "Repo card metadata block was not found. Setting CardData to empty.\n",
      "WARNING:huggingface_hub.repocard:Repo card metadata block was not found. Setting CardData to empty.\n",
      "AWQ: 100%|██████████| 28/28 [16:09<00:00, 34.64s/it]\n"
     ]
    },
    {
     "name": "stdout",
     "output_type": "stream",
     "text": [
      "Working on ./raw_models/checkpoint-75\n"
     ]
    },
    {
     "data": {
      "application/vnd.jupyter.widget-view+json": {
       "model_id": "06c52ba8611b48f38b0f6bf9aaebfba4",
       "version_major": 2,
       "version_minor": 0
      },
      "text/plain": [
       "Loading checkpoint shards:   0%|          | 0/4 [00:00<?, ?it/s]"
      ]
     },
     "metadata": {},
     "output_type": "display_data"
    },
    {
     "name": "stderr",
     "output_type": "stream",
     "text": [
      "Repo card metadata block was not found. Setting CardData to empty.\n",
      "WARNING:huggingface_hub.repocard:Repo card metadata block was not found. Setting CardData to empty.\n",
      "AWQ: 100%|██████████| 28/28 [15:53<00:00, 34.04s/it]\n"
     ]
    },
    {
     "name": "stdout",
     "output_type": "stream",
     "text": [
      "Working on ./raw_models/checkpoint-100\n"
     ]
    },
    {
     "data": {
      "application/vnd.jupyter.widget-view+json": {
       "model_id": "a49b36a4f5a34f71b44580b2c60cf9f9",
       "version_major": 2,
       "version_minor": 0
      },
      "text/plain": [
       "Loading checkpoint shards:   0%|          | 0/4 [00:00<?, ?it/s]"
      ]
     },
     "metadata": {},
     "output_type": "display_data"
    },
    {
     "name": "stderr",
     "output_type": "stream",
     "text": [
      "Repo card metadata block was not found. Setting CardData to empty.\n",
      "WARNING:huggingface_hub.repocard:Repo card metadata block was not found. Setting CardData to empty.\n",
      "AWQ: 100%|██████████| 28/28 [15:55<00:00, 34.12s/it]\n"
     ]
    },
    {
     "name": "stdout",
     "output_type": "stream",
     "text": [
      "Working on ./raw_models/checkpoint-125\n"
     ]
    },
    {
     "data": {
      "application/vnd.jupyter.widget-view+json": {
       "model_id": "9606fabcc6324f2c981db48609b8eb85",
       "version_major": 2,
       "version_minor": 0
      },
      "text/plain": [
       "Loading checkpoint shards:   0%|          | 0/4 [00:00<?, ?it/s]"
      ]
     },
     "metadata": {},
     "output_type": "display_data"
    },
    {
     "name": "stderr",
     "output_type": "stream",
     "text": [
      "Repo card metadata block was not found. Setting CardData to empty.\n",
      "WARNING:huggingface_hub.repocard:Repo card metadata block was not found. Setting CardData to empty.\n",
      "AWQ: 100%|██████████| 28/28 [15:33<00:00, 33.34s/it]\n"
     ]
    },
    {
     "name": "stdout",
     "output_type": "stream",
     "text": [
      "Working on ./raw_models/checkpoint-150\n"
     ]
    },
    {
     "data": {
      "application/vnd.jupyter.widget-view+json": {
       "model_id": "eabb0448c38e4a0998bd86ee90645768",
       "version_major": 2,
       "version_minor": 0
      },
      "text/plain": [
       "Loading checkpoint shards:   0%|          | 0/4 [00:00<?, ?it/s]"
      ]
     },
     "metadata": {},
     "output_type": "display_data"
    },
    {
     "name": "stderr",
     "output_type": "stream",
     "text": [
      "Repo card metadata block was not found. Setting CardData to empty.\n",
      "WARNING:huggingface_hub.repocard:Repo card metadata block was not found. Setting CardData to empty.\n",
      "AWQ: 100%|██████████| 28/28 [15:23<00:00, 32.97s/it]\n"
     ]
    },
    {
     "name": "stdout",
     "output_type": "stream",
     "text": [
      "Working on ./raw_models/checkpoint-175\n"
     ]
    },
    {
     "data": {
      "application/vnd.jupyter.widget-view+json": {
       "model_id": "71e6832104344676a073b272770c30be",
       "version_major": 2,
       "version_minor": 0
      },
      "text/plain": [
       "Loading checkpoint shards:   0%|          | 0/4 [00:00<?, ?it/s]"
      ]
     },
     "metadata": {},
     "output_type": "display_data"
    },
    {
     "name": "stderr",
     "output_type": "stream",
     "text": [
      "Repo card metadata block was not found. Setting CardData to empty.\n",
      "WARNING:huggingface_hub.repocard:Repo card metadata block was not found. Setting CardData to empty.\n",
      "AWQ: 100%|██████████| 28/28 [15:39<00:00, 33.56s/it]\n"
     ]
    },
    {
     "name": "stdout",
     "output_type": "stream",
     "text": [
      "Working on ./raw_models/checkpoint-200\n"
     ]
    },
    {
     "data": {
      "application/vnd.jupyter.widget-view+json": {
       "model_id": "c170fb5236284edf8fa4cb5bfacaf69d",
       "version_major": 2,
       "version_minor": 0
      },
      "text/plain": [
       "Loading checkpoint shards:   0%|          | 0/4 [00:00<?, ?it/s]"
      ]
     },
     "metadata": {},
     "output_type": "display_data"
    },
    {
     "name": "stderr",
     "output_type": "stream",
     "text": [
      "Repo card metadata block was not found. Setting CardData to empty.\n",
      "WARNING:huggingface_hub.repocard:Repo card metadata block was not found. Setting CardData to empty.\n",
      "AWQ: 100%|██████████| 28/28 [16:21<00:00, 35.06s/it]\n"
     ]
    }
   ],
   "source": [
    "# Iterate over each checkpoint and convert it into AWQ\n",
    "for i in range(0, len(model_paths)):\n",
    "    raw_model_path = f\"./raw_models/{model_paths[i].split('/')[-1]}\"\n",
    "    print(f\"Working on {raw_model_path}\")\n",
    "    quant_config = {\n",
    "      \"zero_point\": True,\n",
    "      \"q_group_size\": 128,\n",
    "      \"w_bit\": 4,\n",
    "      \"version\": \"GEMM\",\n",
    "    }\n",
    "\n",
    "    # Load model\n",
    "    model = AutoAWQForCausalLM.from_pretrained(raw_model_path, low_cpu_mem_usage=True, use_cache=False, trust_remote_code=True)\n",
    "    tokenizer = AutoTokenizer.from_pretrained(raw_model_path)\n",
    "\n",
    "    # Quantize\n",
    "    model.quantize(tokenizer, quant_config=quant_config)\n",
    "\n",
    "    quantized_model_path = f\"./awq_models/{model_paths[i].split('/')[-1]}\"\n",
    "\n",
    "    model.save_quantized(quantized_model_path) # Save model\n",
    "    tokenizer.save_pretrained(quantized_model_path) # Save tokenizer\n",
    "    del model, tokenizer\n",
    "    torch.cuda.empty_cache()\n",
    "    gc.collect()"
   ]
  }
 ],
 "metadata": {
  "kernelspec": {
   "display_name": "aimo",
   "language": "python",
   "name": "aimo"
  },
  "language_info": {
   "codemirror_mode": {
    "name": "ipython",
    "version": 3
   },
   "file_extension": ".py",
   "mimetype": "text/x-python",
   "name": "python",
   "nbconvert_exporter": "python",
   "pygments_lexer": "ipython3",
   "version": "3.10.14"
  }
 },
 "nbformat": 4,
 "nbformat_minor": 5
}
